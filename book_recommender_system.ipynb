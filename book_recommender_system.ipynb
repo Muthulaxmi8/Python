{
  "metadata": {
    "kernelspec": {
      "language": "python",
      "display_name": "Python 3",
      "name": "python3"
    },
    "language_info": {
      "name": "python",
      "version": "3.7.12",
      "mimetype": "text/x-python",
      "codemirror_mode": {
        "name": "ipython",
        "version": 3
      },
      "pygments_lexer": "ipython3",
      "nbconvert_exporter": "python",
      "file_extension": ".py"
    },
    "colab": {
      "provenance": [],
      "include_colab_link": true
    }
  },
  "nbformat_minor": 0,
  "nbformat": 4,
  "cells": [
    {
      "cell_type": "markdown",
      "metadata": {
        "id": "view-in-github",
        "colab_type": "text"
      },
      "source": [
        "<a href=\"https://colab.research.google.com/github/Muthulaxmi8/Python/blob/main/book_recommender_system.ipynb\" target=\"_parent\"><img src=\"https://colab.research.google.com/assets/colab-badge.svg\" alt=\"Open In Colab\"/></a>"
      ]
    },
    {
      "cell_type": "code",
      "source": [
        "# This Python 3 environment comes with many helpful analytics libraries installed\n",
        "# It is defined by the kaggle/python Docker image: https://github.com/kaggle/docker-python\n",
        "# For example, here's several helpful packages to load\n",
        "\n",
        "import numpy as np # linear algebra\n",
        "import pandas as pd # data processing, CSV file I/O (e.g. pd.read_csv)\n",
        "\n",
        "# Input data files are available in the read-only \"../input/\" directory\n",
        "# For example, running this (by clicking run or pressing Shift+Enter) will list all files under the input directory\n",
        "\n",
        "import os\n",
        "for dirname, _, filenames in os.walk('/kaggle/input'):\n",
        "    for filename in filenames:\n",
        "        print(os.path.join(dirname, filename))\n",
        "\n",
        "# You can write up to 20GB to the current directory (/kaggle/working/) that gets preserved as output when you create a version using \"Save & Run All\" \n",
        "# You can also write temporary files to /kaggle/temp/, but they won't be saved outside of the current session"
      ],
      "metadata": {
        "_uuid": "8f2839f25d086af736a60e9eeb907d3b93b6e0e5",
        "_cell_guid": "b1076dfc-b9ad-4769-8c92-a6c4dae69d19",
        "execution": {
          "iopub.status.busy": "2022-10-14T15:39:46.756422Z",
          "iopub.execute_input": "2022-10-14T15:39:46.756931Z",
          "iopub.status.idle": "2022-10-14T15:39:46.767090Z",
          "shell.execute_reply.started": "2022-10-14T15:39:46.756896Z",
          "shell.execute_reply": "2022-10-14T15:39:46.765340Z"
        },
        "trusted": true,
        "id": "Min0NLq_w4UT",
        "outputId": "93a26950-11be-4240-b7ed-e0d4c7fae1c8"
      },
      "execution_count": null,
      "outputs": [
        {
          "name": "stdout",
          "text": "/kaggle/input/book-recommendation-dataset/Ratings.csv\n/kaggle/input/book-recommendation-dataset/Users.csv\n/kaggle/input/book-recommendation-dataset/Books.csv\n",
          "output_type": "stream"
        }
      ]
    },
    {
      "cell_type": "code",
      "source": [
        "import numpy as np\n",
        "import pandas as pd"
      ],
      "metadata": {
        "execution": {
          "iopub.status.busy": "2022-10-14T15:39:46.769165Z",
          "iopub.execute_input": "2022-10-14T15:39:46.770413Z",
          "iopub.status.idle": "2022-10-14T15:39:46.781706Z",
          "shell.execute_reply.started": "2022-10-14T15:39:46.770370Z",
          "shell.execute_reply": "2022-10-14T15:39:46.780529Z"
        },
        "trusted": true,
        "id": "gqLDFFG3w4UZ"
      },
      "execution_count": null,
      "outputs": []
    },
    {
      "cell_type": "code",
      "source": [
        "books = pd.read_csv('../input/book-recommendation-dataset/Books.csv')\n",
        "users = pd.read_csv('../input/book-recommendation-dataset/Users.csv')\n",
        "ratings = pd.read_csv('../input/book-recommendation-dataset/Ratings.csv')"
      ],
      "metadata": {
        "execution": {
          "iopub.status.busy": "2022-10-14T15:39:46.783255Z",
          "iopub.execute_input": "2022-10-14T15:39:46.784371Z",
          "iopub.status.idle": "2022-10-14T15:39:49.827692Z",
          "shell.execute_reply.started": "2022-10-14T15:39:46.784333Z",
          "shell.execute_reply": "2022-10-14T15:39:49.826477Z"
        },
        "trusted": true,
        "id": "2Yl5dBoMw4Ua",
        "outputId": "6cfcbd6d-6641-472e-cb3d-d2a55a120fcb"
      },
      "execution_count": null,
      "outputs": [
        {
          "name": "stderr",
          "text": "/opt/conda/lib/python3.7/site-packages/IPython/core/interactiveshell.py:3552: DtypeWarning: Columns (3) have mixed types.Specify dtype option on import or set low_memory=False.\n  exec(code_obj, self.user_global_ns, self.user_ns)\n",
          "output_type": "stream"
        }
      ]
    },
    {
      "cell_type": "code",
      "source": [
        "books['Image-URL-M'][1]"
      ],
      "metadata": {
        "execution": {
          "iopub.status.busy": "2022-10-14T15:39:49.830249Z",
          "iopub.execute_input": "2022-10-14T15:39:49.830620Z",
          "iopub.status.idle": "2022-10-14T15:39:49.838519Z",
          "shell.execute_reply.started": "2022-10-14T15:39:49.830587Z",
          "shell.execute_reply": "2022-10-14T15:39:49.837255Z"
        },
        "trusted": true,
        "id": "p3KMPu6Cw4Ub",
        "outputId": "56d81fb4-1dfc-4f89-99c8-c729cf878c66"
      },
      "execution_count": null,
      "outputs": [
        {
          "execution_count": 82,
          "output_type": "execute_result",
          "data": {
            "text/plain": "'http://images.amazon.com/images/P/0002005018.01.MZZZZZZZ.jpg'"
          },
          "metadata": {}
        }
      ]
    },
    {
      "cell_type": "code",
      "source": [
        "users.head()"
      ],
      "metadata": {
        "execution": {
          "iopub.status.busy": "2022-10-14T15:39:49.840126Z",
          "iopub.execute_input": "2022-10-14T15:39:49.840506Z",
          "iopub.status.idle": "2022-10-14T15:39:49.858573Z",
          "shell.execute_reply.started": "2022-10-14T15:39:49.840474Z",
          "shell.execute_reply": "2022-10-14T15:39:49.856998Z"
        },
        "trusted": true,
        "id": "5stp3vnmw4Ub",
        "outputId": "8144ad6f-9310-4023-a79e-b3e24ac147bf"
      },
      "execution_count": null,
      "outputs": [
        {
          "execution_count": 83,
          "output_type": "execute_result",
          "data": {
            "text/plain": "   User-ID                            Location   Age\n0        1                  nyc, new york, usa   NaN\n1        2           stockton, california, usa  18.0\n2        3     moscow, yukon territory, russia   NaN\n3        4           porto, v.n.gaia, portugal  17.0\n4        5  farnborough, hants, united kingdom   NaN",
            "text/html": "<div>\n<style scoped>\n    .dataframe tbody tr th:only-of-type {\n        vertical-align: middle;\n    }\n\n    .dataframe tbody tr th {\n        vertical-align: top;\n    }\n\n    .dataframe thead th {\n        text-align: right;\n    }\n</style>\n<table border=\"1\" class=\"dataframe\">\n  <thead>\n    <tr style=\"text-align: right;\">\n      <th></th>\n      <th>User-ID</th>\n      <th>Location</th>\n      <th>Age</th>\n    </tr>\n  </thead>\n  <tbody>\n    <tr>\n      <th>0</th>\n      <td>1</td>\n      <td>nyc, new york, usa</td>\n      <td>NaN</td>\n    </tr>\n    <tr>\n      <th>1</th>\n      <td>2</td>\n      <td>stockton, california, usa</td>\n      <td>18.0</td>\n    </tr>\n    <tr>\n      <th>2</th>\n      <td>3</td>\n      <td>moscow, yukon territory, russia</td>\n      <td>NaN</td>\n    </tr>\n    <tr>\n      <th>3</th>\n      <td>4</td>\n      <td>porto, v.n.gaia, portugal</td>\n      <td>17.0</td>\n    </tr>\n    <tr>\n      <th>4</th>\n      <td>5</td>\n      <td>farnborough, hants, united kingdom</td>\n      <td>NaN</td>\n    </tr>\n  </tbody>\n</table>\n</div>"
          },
          "metadata": {}
        }
      ]
    },
    {
      "cell_type": "code",
      "source": [
        "ratings.head()"
      ],
      "metadata": {
        "execution": {
          "iopub.status.busy": "2022-10-14T15:39:49.860343Z",
          "iopub.execute_input": "2022-10-14T15:39:49.860704Z",
          "iopub.status.idle": "2022-10-14T15:39:49.875336Z",
          "shell.execute_reply.started": "2022-10-14T15:39:49.860672Z",
          "shell.execute_reply": "2022-10-14T15:39:49.874484Z"
        },
        "trusted": true,
        "id": "ywFNy_-Gw4Uc",
        "outputId": "a6e2cf57-360a-4c5a-c5f5-49a254c64ad8"
      },
      "execution_count": null,
      "outputs": [
        {
          "execution_count": 84,
          "output_type": "execute_result",
          "data": {
            "text/plain": "   User-ID        ISBN  Book-Rating\n0   276725  034545104X            0\n1   276726  0155061224            5\n2   276727  0446520802            0\n3   276729  052165615X            3\n4   276729  0521795028            6",
            "text/html": "<div>\n<style scoped>\n    .dataframe tbody tr th:only-of-type {\n        vertical-align: middle;\n    }\n\n    .dataframe tbody tr th {\n        vertical-align: top;\n    }\n\n    .dataframe thead th {\n        text-align: right;\n    }\n</style>\n<table border=\"1\" class=\"dataframe\">\n  <thead>\n    <tr style=\"text-align: right;\">\n      <th></th>\n      <th>User-ID</th>\n      <th>ISBN</th>\n      <th>Book-Rating</th>\n    </tr>\n  </thead>\n  <tbody>\n    <tr>\n      <th>0</th>\n      <td>276725</td>\n      <td>034545104X</td>\n      <td>0</td>\n    </tr>\n    <tr>\n      <th>1</th>\n      <td>276726</td>\n      <td>0155061224</td>\n      <td>5</td>\n    </tr>\n    <tr>\n      <th>2</th>\n      <td>276727</td>\n      <td>0446520802</td>\n      <td>0</td>\n    </tr>\n    <tr>\n      <th>3</th>\n      <td>276729</td>\n      <td>052165615X</td>\n      <td>3</td>\n    </tr>\n    <tr>\n      <th>4</th>\n      <td>276729</td>\n      <td>0521795028</td>\n      <td>6</td>\n    </tr>\n  </tbody>\n</table>\n</div>"
          },
          "metadata": {}
        }
      ]
    },
    {
      "cell_type": "code",
      "source": [
        "print(books.shape)\n",
        "print(ratings.shape)\n",
        "print(users.shape)"
      ],
      "metadata": {
        "execution": {
          "iopub.status.busy": "2022-10-14T15:39:49.877383Z",
          "iopub.execute_input": "2022-10-14T15:39:49.877945Z",
          "iopub.status.idle": "2022-10-14T15:39:49.888519Z",
          "shell.execute_reply.started": "2022-10-14T15:39:49.877908Z",
          "shell.execute_reply": "2022-10-14T15:39:49.887230Z"
        },
        "trusted": true,
        "id": "Mou5yc1Tw4Ud",
        "outputId": "bafb0903-9571-4ea1-ad08-302b2ddc3811"
      },
      "execution_count": null,
      "outputs": [
        {
          "name": "stdout",
          "text": "(271360, 8)\n(1149780, 3)\n(278858, 3)\n",
          "output_type": "stream"
        }
      ]
    },
    {
      "cell_type": "code",
      "source": [
        "books.isnull().sum()"
      ],
      "metadata": {
        "execution": {
          "iopub.status.busy": "2022-10-14T15:39:49.890430Z",
          "iopub.execute_input": "2022-10-14T15:39:49.890992Z",
          "iopub.status.idle": "2022-10-14T15:39:50.028318Z",
          "shell.execute_reply.started": "2022-10-14T15:39:49.890944Z",
          "shell.execute_reply": "2022-10-14T15:39:50.026589Z"
        },
        "trusted": true,
        "id": "lU2k1Yl7w4Ue",
        "outputId": "cc3837fd-20a9-4fd3-fdd1-55aa232a7f85"
      },
      "execution_count": null,
      "outputs": [
        {
          "execution_count": 86,
          "output_type": "execute_result",
          "data": {
            "text/plain": "ISBN                   0\nBook-Title             0\nBook-Author            1\nYear-Of-Publication    0\nPublisher              2\nImage-URL-S            0\nImage-URL-M            0\nImage-URL-L            3\ndtype: int64"
          },
          "metadata": {}
        }
      ]
    },
    {
      "cell_type": "code",
      "source": [
        "ratings.isnull().sum()"
      ],
      "metadata": {
        "execution": {
          "iopub.status.busy": "2022-10-14T15:39:50.031640Z",
          "iopub.execute_input": "2022-10-14T15:39:50.032062Z",
          "iopub.status.idle": "2022-10-14T15:39:50.120700Z",
          "shell.execute_reply.started": "2022-10-14T15:39:50.032026Z",
          "shell.execute_reply": "2022-10-14T15:39:50.119174Z"
        },
        "trusted": true,
        "id": "NhD8hqTLw4Ue",
        "outputId": "37553217-6bcb-48b1-8a00-d4096c72505c"
      },
      "execution_count": null,
      "outputs": [
        {
          "execution_count": 87,
          "output_type": "execute_result",
          "data": {
            "text/plain": "User-ID        0\nISBN           0\nBook-Rating    0\ndtype: int64"
          },
          "metadata": {}
        }
      ]
    },
    {
      "cell_type": "code",
      "source": [
        "books.duplicated().sum()"
      ],
      "metadata": {
        "execution": {
          "iopub.status.busy": "2022-10-14T15:39:50.122363Z",
          "iopub.execute_input": "2022-10-14T15:39:50.122865Z",
          "iopub.status.idle": "2022-10-14T15:39:50.902266Z",
          "shell.execute_reply.started": "2022-10-14T15:39:50.122802Z",
          "shell.execute_reply": "2022-10-14T15:39:50.900885Z"
        },
        "trusted": true,
        "id": "WqYBN4Xew4Uf",
        "outputId": "be47f36d-37a1-448b-e178-dcbd4f248cfe"
      },
      "execution_count": null,
      "outputs": [
        {
          "execution_count": 88,
          "output_type": "execute_result",
          "data": {
            "text/plain": "0"
          },
          "metadata": {}
        }
      ]
    },
    {
      "cell_type": "code",
      "source": [
        "ratings.duplicated().sum()"
      ],
      "metadata": {
        "execution": {
          "iopub.status.busy": "2022-10-14T15:39:50.904032Z",
          "iopub.execute_input": "2022-10-14T15:39:50.904398Z",
          "iopub.status.idle": "2022-10-14T15:39:51.407596Z",
          "shell.execute_reply.started": "2022-10-14T15:39:50.904366Z",
          "shell.execute_reply": "2022-10-14T15:39:51.406326Z"
        },
        "trusted": true,
        "id": "BM59ZPYjw4Uh",
        "outputId": "5cde85b9-5ca8-4af7-eca8-8ffdbde8dc52"
      },
      "execution_count": null,
      "outputs": [
        {
          "execution_count": 89,
          "output_type": "execute_result",
          "data": {
            "text/plain": "0"
          },
          "metadata": {}
        }
      ]
    },
    {
      "cell_type": "code",
      "source": [
        "users.duplicated().sum()"
      ],
      "metadata": {
        "execution": {
          "iopub.status.busy": "2022-10-14T15:39:51.409309Z",
          "iopub.execute_input": "2022-10-14T15:39:51.409655Z",
          "iopub.status.idle": "2022-10-14T15:39:51.516063Z",
          "shell.execute_reply.started": "2022-10-14T15:39:51.409625Z",
          "shell.execute_reply": "2022-10-14T15:39:51.514817Z"
        },
        "trusted": true,
        "id": "EA4sTqicw4Uh",
        "outputId": "11dcb91f-f026-4326-84d0-38f92e55da43"
      },
      "execution_count": null,
      "outputs": [
        {
          "execution_count": 90,
          "output_type": "execute_result",
          "data": {
            "text/plain": "0"
          },
          "metadata": {}
        }
      ]
    },
    {
      "cell_type": "markdown",
      "source": [
        "**Popularity Based Recommender System**"
      ],
      "metadata": {
        "id": "4CwW7jIVw4Ui"
      }
    },
    {
      "cell_type": "code",
      "source": [
        "ratings_with_name = ratings.merge(books,on='ISBN')"
      ],
      "metadata": {
        "execution": {
          "iopub.status.busy": "2022-10-14T15:39:51.517985Z",
          "iopub.execute_input": "2022-10-14T15:39:51.518384Z",
          "iopub.status.idle": "2022-10-14T15:39:52.935437Z",
          "shell.execute_reply.started": "2022-10-14T15:39:51.518350Z",
          "shell.execute_reply": "2022-10-14T15:39:52.934051Z"
        },
        "trusted": true,
        "id": "NdXKaRvRw4Uk"
      },
      "execution_count": null,
      "outputs": []
    },
    {
      "cell_type": "code",
      "source": [
        "num_rating_df = ratings_with_name.groupby('Book-Title').count()['Book-Rating'].reset_index()\n",
        "num_rating_df.rename(columns={'Book-Rating':'num_ratings'},inplace=True)\n",
        "num_rating_df"
      ],
      "metadata": {
        "execution": {
          "iopub.status.busy": "2022-10-14T15:39:52.936649Z",
          "iopub.execute_input": "2022-10-14T15:39:52.937022Z",
          "iopub.status.idle": "2022-10-14T15:39:55.092269Z",
          "shell.execute_reply.started": "2022-10-14T15:39:52.936990Z",
          "shell.execute_reply": "2022-10-14T15:39:55.090817Z"
        },
        "trusted": true,
        "id": "XZs7STFqw4Ul",
        "outputId": "e3cdbb9e-ae79-4504-eb42-ba5488731095"
      },
      "execution_count": null,
      "outputs": [
        {
          "execution_count": 92,
          "output_type": "execute_result",
          "data": {
            "text/plain": "                                               Book-Title  num_ratings\n0        A Light in the Storm: The Civil War Diary of ...            4\n1                                   Always Have Popsicles            1\n2                    Apple Magic (The Collector's series)            1\n3        Ask Lily (Young Women of Faith: Lily Series, ...            1\n4        Beyond IBM: Leadership Marketing and Finance ...            1\n...                                                   ...          ...\n241066                                      Ã?Â?lpiraten.            2\n241067                     Ã?Â?rger mit Produkt X. Roman.            4\n241068                                Ã?Â?sterlich leben.            1\n241069                              Ã?Â?stlich der Berge.            3\n241070                                  Ã?Â?thique en toc            2\n\n[241071 rows x 2 columns]",
            "text/html": "<div>\n<style scoped>\n    .dataframe tbody tr th:only-of-type {\n        vertical-align: middle;\n    }\n\n    .dataframe tbody tr th {\n        vertical-align: top;\n    }\n\n    .dataframe thead th {\n        text-align: right;\n    }\n</style>\n<table border=\"1\" class=\"dataframe\">\n  <thead>\n    <tr style=\"text-align: right;\">\n      <th></th>\n      <th>Book-Title</th>\n      <th>num_ratings</th>\n    </tr>\n  </thead>\n  <tbody>\n    <tr>\n      <th>0</th>\n      <td>A Light in the Storm: The Civil War Diary of ...</td>\n      <td>4</td>\n    </tr>\n    <tr>\n      <th>1</th>\n      <td>Always Have Popsicles</td>\n      <td>1</td>\n    </tr>\n    <tr>\n      <th>2</th>\n      <td>Apple Magic (The Collector's series)</td>\n      <td>1</td>\n    </tr>\n    <tr>\n      <th>3</th>\n      <td>Ask Lily (Young Women of Faith: Lily Series, ...</td>\n      <td>1</td>\n    </tr>\n    <tr>\n      <th>4</th>\n      <td>Beyond IBM: Leadership Marketing and Finance ...</td>\n      <td>1</td>\n    </tr>\n    <tr>\n      <th>...</th>\n      <td>...</td>\n      <td>...</td>\n    </tr>\n    <tr>\n      <th>241066</th>\n      <td>Ã?Â?lpiraten.</td>\n      <td>2</td>\n    </tr>\n    <tr>\n      <th>241067</th>\n      <td>Ã?Â?rger mit Produkt X. Roman.</td>\n      <td>4</td>\n    </tr>\n    <tr>\n      <th>241068</th>\n      <td>Ã?Â?sterlich leben.</td>\n      <td>1</td>\n    </tr>\n    <tr>\n      <th>241069</th>\n      <td>Ã?Â?stlich der Berge.</td>\n      <td>3</td>\n    </tr>\n    <tr>\n      <th>241070</th>\n      <td>Ã?Â?thique en toc</td>\n      <td>2</td>\n    </tr>\n  </tbody>\n</table>\n<p>241071 rows × 2 columns</p>\n</div>"
          },
          "metadata": {}
        }
      ]
    },
    {
      "cell_type": "code",
      "source": [
        "avg_rating_df = ratings_with_name.groupby('Book-Title').mean()['Book-Rating'].reset_index()\n",
        "avg_rating_df.rename(columns={'Book-Rating':'avg_rating'},inplace=True)\n",
        "avg_rating_df"
      ],
      "metadata": {
        "execution": {
          "iopub.status.busy": "2022-10-14T15:39:55.093781Z",
          "iopub.execute_input": "2022-10-14T15:39:55.094161Z",
          "iopub.status.idle": "2022-10-14T15:39:56.195883Z",
          "shell.execute_reply.started": "2022-10-14T15:39:55.094131Z",
          "shell.execute_reply": "2022-10-14T15:39:56.194437Z"
        },
        "trusted": true,
        "id": "5yFDM8Ipw4Un",
        "outputId": "f2576db3-5404-4896-f387-c0e08f592add"
      },
      "execution_count": null,
      "outputs": [
        {
          "execution_count": 93,
          "output_type": "execute_result",
          "data": {
            "text/plain": "                                               Book-Title  avg_rating\n0        A Light in the Storm: The Civil War Diary of ...    2.250000\n1                                   Always Have Popsicles    0.000000\n2                    Apple Magic (The Collector's series)    0.000000\n3        Ask Lily (Young Women of Faith: Lily Series, ...    8.000000\n4        Beyond IBM: Leadership Marketing and Finance ...    0.000000\n...                                                   ...         ...\n241066                                      Ã?Â?lpiraten.    0.000000\n241067                     Ã?Â?rger mit Produkt X. Roman.    5.250000\n241068                                Ã?Â?sterlich leben.    7.000000\n241069                              Ã?Â?stlich der Berge.    2.666667\n241070                                  Ã?Â?thique en toc    4.000000\n\n[241071 rows x 2 columns]",
            "text/html": "<div>\n<style scoped>\n    .dataframe tbody tr th:only-of-type {\n        vertical-align: middle;\n    }\n\n    .dataframe tbody tr th {\n        vertical-align: top;\n    }\n\n    .dataframe thead th {\n        text-align: right;\n    }\n</style>\n<table border=\"1\" class=\"dataframe\">\n  <thead>\n    <tr style=\"text-align: right;\">\n      <th></th>\n      <th>Book-Title</th>\n      <th>avg_rating</th>\n    </tr>\n  </thead>\n  <tbody>\n    <tr>\n      <th>0</th>\n      <td>A Light in the Storm: The Civil War Diary of ...</td>\n      <td>2.250000</td>\n    </tr>\n    <tr>\n      <th>1</th>\n      <td>Always Have Popsicles</td>\n      <td>0.000000</td>\n    </tr>\n    <tr>\n      <th>2</th>\n      <td>Apple Magic (The Collector's series)</td>\n      <td>0.000000</td>\n    </tr>\n    <tr>\n      <th>3</th>\n      <td>Ask Lily (Young Women of Faith: Lily Series, ...</td>\n      <td>8.000000</td>\n    </tr>\n    <tr>\n      <th>4</th>\n      <td>Beyond IBM: Leadership Marketing and Finance ...</td>\n      <td>0.000000</td>\n    </tr>\n    <tr>\n      <th>...</th>\n      <td>...</td>\n      <td>...</td>\n    </tr>\n    <tr>\n      <th>241066</th>\n      <td>Ã?Â?lpiraten.</td>\n      <td>0.000000</td>\n    </tr>\n    <tr>\n      <th>241067</th>\n      <td>Ã?Â?rger mit Produkt X. Roman.</td>\n      <td>5.250000</td>\n    </tr>\n    <tr>\n      <th>241068</th>\n      <td>Ã?Â?sterlich leben.</td>\n      <td>7.000000</td>\n    </tr>\n    <tr>\n      <th>241069</th>\n      <td>Ã?Â?stlich der Berge.</td>\n      <td>2.666667</td>\n    </tr>\n    <tr>\n      <th>241070</th>\n      <td>Ã?Â?thique en toc</td>\n      <td>4.000000</td>\n    </tr>\n  </tbody>\n</table>\n<p>241071 rows × 2 columns</p>\n</div>"
          },
          "metadata": {}
        }
      ]
    },
    {
      "cell_type": "code",
      "source": [
        "popular_df = num_rating_df.merge(avg_rating_df,on='Book-Title')\n",
        "popular_df"
      ],
      "metadata": {
        "execution": {
          "iopub.status.busy": "2022-10-14T15:39:56.197440Z",
          "iopub.execute_input": "2022-10-14T15:39:56.197782Z",
          "iopub.status.idle": "2022-10-14T15:39:56.527666Z",
          "shell.execute_reply.started": "2022-10-14T15:39:56.197752Z",
          "shell.execute_reply": "2022-10-14T15:39:56.526261Z"
        },
        "trusted": true,
        "id": "dqvq5v44w4Uo",
        "outputId": "a32a2e9b-e1b4-4f65-8e80-67ab9d63cb6f"
      },
      "execution_count": null,
      "outputs": [
        {
          "execution_count": 94,
          "output_type": "execute_result",
          "data": {
            "text/plain": "                                               Book-Title  num_ratings  \\\n0        A Light in the Storm: The Civil War Diary of ...            4   \n1                                   Always Have Popsicles            1   \n2                    Apple Magic (The Collector's series)            1   \n3        Ask Lily (Young Women of Faith: Lily Series, ...            1   \n4        Beyond IBM: Leadership Marketing and Finance ...            1   \n...                                                   ...          ...   \n241066                                      Ã?Â?lpiraten.            2   \n241067                     Ã?Â?rger mit Produkt X. Roman.            4   \n241068                                Ã?Â?sterlich leben.            1   \n241069                              Ã?Â?stlich der Berge.            3   \n241070                                  Ã?Â?thique en toc            2   \n\n        avg_rating  \n0         2.250000  \n1         0.000000  \n2         0.000000  \n3         8.000000  \n4         0.000000  \n...            ...  \n241066    0.000000  \n241067    5.250000  \n241068    7.000000  \n241069    2.666667  \n241070    4.000000  \n\n[241071 rows x 3 columns]",
            "text/html": "<div>\n<style scoped>\n    .dataframe tbody tr th:only-of-type {\n        vertical-align: middle;\n    }\n\n    .dataframe tbody tr th {\n        vertical-align: top;\n    }\n\n    .dataframe thead th {\n        text-align: right;\n    }\n</style>\n<table border=\"1\" class=\"dataframe\">\n  <thead>\n    <tr style=\"text-align: right;\">\n      <th></th>\n      <th>Book-Title</th>\n      <th>num_ratings</th>\n      <th>avg_rating</th>\n    </tr>\n  </thead>\n  <tbody>\n    <tr>\n      <th>0</th>\n      <td>A Light in the Storm: The Civil War Diary of ...</td>\n      <td>4</td>\n      <td>2.250000</td>\n    </tr>\n    <tr>\n      <th>1</th>\n      <td>Always Have Popsicles</td>\n      <td>1</td>\n      <td>0.000000</td>\n    </tr>\n    <tr>\n      <th>2</th>\n      <td>Apple Magic (The Collector's series)</td>\n      <td>1</td>\n      <td>0.000000</td>\n    </tr>\n    <tr>\n      <th>3</th>\n      <td>Ask Lily (Young Women of Faith: Lily Series, ...</td>\n      <td>1</td>\n      <td>8.000000</td>\n    </tr>\n    <tr>\n      <th>4</th>\n      <td>Beyond IBM: Leadership Marketing and Finance ...</td>\n      <td>1</td>\n      <td>0.000000</td>\n    </tr>\n    <tr>\n      <th>...</th>\n      <td>...</td>\n      <td>...</td>\n      <td>...</td>\n    </tr>\n    <tr>\n      <th>241066</th>\n      <td>Ã?Â?lpiraten.</td>\n      <td>2</td>\n      <td>0.000000</td>\n    </tr>\n    <tr>\n      <th>241067</th>\n      <td>Ã?Â?rger mit Produkt X. Roman.</td>\n      <td>4</td>\n      <td>5.250000</td>\n    </tr>\n    <tr>\n      <th>241068</th>\n      <td>Ã?Â?sterlich leben.</td>\n      <td>1</td>\n      <td>7.000000</td>\n    </tr>\n    <tr>\n      <th>241069</th>\n      <td>Ã?Â?stlich der Berge.</td>\n      <td>3</td>\n      <td>2.666667</td>\n    </tr>\n    <tr>\n      <th>241070</th>\n      <td>Ã?Â?thique en toc</td>\n      <td>2</td>\n      <td>4.000000</td>\n    </tr>\n  </tbody>\n</table>\n<p>241071 rows × 3 columns</p>\n</div>"
          },
          "metadata": {}
        }
      ]
    },
    {
      "cell_type": "code",
      "source": [
        "popular_df= popular_df[popular_df['num_ratings']>=250].sort_values('avg_rating',ascending=False).head(50)"
      ],
      "metadata": {
        "execution": {
          "iopub.status.busy": "2022-10-14T15:39:56.529205Z",
          "iopub.execute_input": "2022-10-14T15:39:56.529588Z",
          "iopub.status.idle": "2022-10-14T15:39:56.540742Z",
          "shell.execute_reply.started": "2022-10-14T15:39:56.529555Z",
          "shell.execute_reply": "2022-10-14T15:39:56.539398Z"
        },
        "trusted": true,
        "id": "GTBxsBxSw4Up"
      },
      "execution_count": null,
      "outputs": []
    },
    {
      "cell_type": "code",
      "source": [
        "popular_df.merge(books,on='Book-Title').drop_duplicates('Book-Title')[['Book-Title','Book-Author','Image-URL-M','num_ratings','avg_rating']]"
      ],
      "metadata": {
        "execution": {
          "iopub.status.busy": "2022-10-14T15:39:56.542432Z",
          "iopub.execute_input": "2022-10-14T15:39:56.542862Z",
          "iopub.status.idle": "2022-10-14T15:39:56.797918Z",
          "shell.execute_reply.started": "2022-10-14T15:39:56.542810Z",
          "shell.execute_reply": "2022-10-14T15:39:56.796605Z"
        },
        "trusted": true,
        "id": "bKlJ8w_sw4Up",
        "outputId": "4b08aaaa-4dc2-489b-fcda-948a22d648ee"
      },
      "execution_count": null,
      "outputs": [
        {
          "execution_count": 96,
          "output_type": "execute_result",
          "data": {
            "text/plain": "                                            Book-Title  \\\n0    Harry Potter and the Prisoner of Azkaban (Book 3)   \n3         Harry Potter and the Goblet of Fire (Book 4)   \n5       Harry Potter and the Sorcerer's Stone (Book 1)   \n9    Harry Potter and the Order of the Phoenix (Boo...   \n13    Harry Potter and the Chamber of Secrets (Book 2)   \n16   The Hobbit : The Enchanting Prelude to The Lor...   \n17   The Fellowship of the Ring (The Lord of the Ri...   \n26   Harry Potter and the Sorcerer's Stone (Harry P...   \n28      The Two Towers (The Lord of the Rings, Part 2)   \n39                               To Kill a Mockingbird   \n47                                   The Da Vinci Code   \n53                  The Five People You Meet in Heaven   \n55                              The Catcher in the Rye   \n62                           The Lovely Bones: A Novel   \n63                                                1984   \n72                            Prodigal Summer: A Novel   \n73                                          Neverwhere   \n78                             The Secret Life of Bees   \n84   Stupid White Men ...and Other Sorry Excuses fo...   \n85   Tuesdays with Morrie: An Old Man, a Young Man,...   \n88                 The Red Tent (Bestselling Backlist)   \n89                The Hitchhiker's Guide to the Galaxy   \n98    Nickel and Dimed: On (Not) Getting By in America   \n100                                      Into the Wild   \n103                                     Fahrenheit 451   \n116                          Girl with a Pearl Earring   \n117                                          Outlander   \n123  Where the Heart Is (Oprah's Book Club (Paperba...   \n124                     Seabiscuit: An American Legend   \n126                                         Life of Pi   \n130                                     The Bean Trees   \n133  A Child Called \\It\\\": One Child's Courage to S...   \n135                                     ANGELA'S ASHES   \n137                                        Good in Bed   \n139  Fast Food Nation: The Dark Side of the All-Ame...   \n140                                      American Gods   \n141                                 Skipping Christmas   \n147  Left Behind: A Novel of the Earth's Last Days ...   \n149    The Golden Compass (His Dark Materials, Book 1)   \n157                                   The Color Purple   \n163                               Silence of the Lambs   \n166                                        About a Boy   \n173                  Seven Up (A Stephanie Plum Novel)   \n175  The Alchemist: A Fable About Following Your Dream   \n177  Hard Eight : A Stephanie Plum Novel (A Stephan...   \n182                       Suzanne's Diary for Nicholas   \n186                                  Lord of the Flies   \n192                            A Prayer for Owen Meany   \n194   The Vampire Lestat (Vampire Chronicles, Book II)   \n195       White Oleander : A Novel (Oprah's Book Club)   \n\n                Book-Author  \\\n0             J. K. Rowling   \n3             J. K. Rowling   \n5             J. K. Rowling   \n9             J. K. Rowling   \n13            J. K. Rowling   \n16           J.R.R. TOLKIEN   \n17           J.R.R. TOLKIEN   \n26            J. K. Rowling   \n28           J.R.R. TOLKIEN   \n39               Harper Lee   \n47                Dan Brown   \n53              Mitch Albom   \n55            J.D. Salinger   \n62             Alice Sebold   \n63            George Orwell   \n72       Barbara Kingsolver   \n73              Neil Gaiman   \n78            Sue Monk Kidd   \n84            Michael Moore   \n85              MITCH ALBOM   \n88            Anita Diamant   \n89            Douglas Adams   \n98       Barbara Ehrenreich   \n100            Jon Krakauer   \n103            Ray Bradbury   \n116         Tracy Chevalier   \n117          DIANA GABALDON   \n123            Billie Letts   \n124       LAURA HILLENBRAND   \n126             Yann Martel   \n130      Barbara Kingsolver   \n133             Dave Pelzer   \n135           Frank McCourt   \n137         Jennifer Weiner   \n139          Eric Schlosser   \n140             Neil Gaiman   \n141            JOHN GRISHAM   \n147              Tim Lahaye   \n149          PHILIP PULLMAN   \n157            Alice Walker   \n163           Thomas Harris   \n166             Nick Hornby   \n173         Janet Evanovich   \n175            Paulo Coelho   \n177         Janet Evanovich   \n182         James Patterson   \n186  William Gerald Golding   \n192             John Irving   \n194               ANNE RICE   \n195             Janet Fitch   \n\n                                           Image-URL-M  num_ratings  \\\n0    http://images.amazon.com/images/P/0439136350.0...          428   \n3    http://images.amazon.com/images/P/0439139597.0...          387   \n5    http://images.amazon.com/images/P/0590353403.0...          278   \n9    http://images.amazon.com/images/P/043935806X.0...          347   \n13   http://images.amazon.com/images/P/0439064872.0...          556   \n16   http://images.amazon.com/images/P/0345339681.0...          281   \n17   http://images.amazon.com/images/P/0345339703.0...          368   \n26   http://images.amazon.com/images/P/059035342X.0...          575   \n28   http://images.amazon.com/images/P/0345339711.0...          260   \n39   http://images.amazon.com/images/P/0446310786.0...          510   \n47   http://images.amazon.com/images/P/0385504209.0...          898   \n53   http://images.amazon.com/images/P/0786868716.0...          430   \n55   http://images.amazon.com/images/P/0316769487.0...          449   \n62   http://images.amazon.com/images/P/0316666343.0...         1295   \n63   http://images.amazon.com/images/P/0451524934.0...          284   \n72   http://images.amazon.com/images/P/0060959037.0...          253   \n73   http://images.amazon.com/images/P/0380789019.0...          265   \n78   http://images.amazon.com/images/P/0142001740.0...          774   \n84   http://images.amazon.com/images/P/0060392452.0...          283   \n85   http://images.amazon.com/images/P/0385484518.0...          493   \n88   http://images.amazon.com/images/P/0312195516.0...          723   \n89   http://images.amazon.com/images/P/0671461494.0...          268   \n98   http://images.amazon.com/images/P/0805063897.0...          335   \n100  http://images.amazon.com/images/P/0385486804.0...          252   \n103  http://images.amazon.com/images/P/3257208626.0...          409   \n116  http://images.amazon.com/images/P/0452282152.0...          526   \n117  http://images.amazon.com/images/P/0440222915.0...          283   \n123  http://images.amazon.com/images/P/0446672211.0...          585   \n124  http://images.amazon.com/images/P/0449005615.0...          275   \n126  http://images.amazon.com/images/P/0151008116.0...          664   \n130  http://images.amazon.com/images/P/0060915544.0...          389   \n133  http://images.amazon.com/images/P/1558743669.0...          265   \n135  http://images.amazon.com/images/P/0684874350.0...          279   \n137  http://images.amazon.com/images/P/0743418174.0...          490   \n139  http://images.amazon.com/images/P/0060938455.0...          321   \n140  http://images.amazon.com/images/P/0380789035.0...          302   \n141  http://images.amazon.com/images/P/0385505833.0...          322   \n147  http://images.amazon.com/images/P/0842329129.0...          318   \n149  http://images.amazon.com/images/P/037582345X.0...          336   \n157  http://images.amazon.com/images/P/0671617028.0...          314   \n163  http://images.amazon.com/images/P/0312924585.0...          256   \n166  http://images.amazon.com/images/P/1573227331.0...          262   \n173  http://images.amazon.com/images/P/0312265840.0...          278   \n175  http://images.amazon.com/images/P/0062502174.0...          266   \n177  http://images.amazon.com/images/P/0312983867.0...          269   \n182  http://images.amazon.com/images/P/0316969443.0...          457   \n186  http://images.amazon.com/images/P/0399501487.0...          259   \n192  http://images.amazon.com/images/P/0345361792.0...          413   \n194  http://images.amazon.com/images/P/0345313860.0...          301   \n195  http://images.amazon.com/images/P/0316284955.0...          356   \n\n     avg_rating  \n0      5.852804  \n3      5.824289  \n5      5.737410  \n9      5.501441  \n13     5.183453  \n16     5.007117  \n17     4.948370  \n26     4.895652  \n28     4.880769  \n39     4.700000  \n47     4.642539  \n53     4.551163  \n55     4.545657  \n62     4.468726  \n63     4.454225  \n72     4.450593  \n73     4.449057  \n78     4.447028  \n84     4.356890  \n85     4.354970  \n88     4.334716  \n89     4.328358  \n98     4.289552  \n100    4.273810  \n103    4.264059  \n116    4.218631  \n117    4.173145  \n123    4.105983  \n124    4.098182  \n126    4.088855  \n130    4.087404  \n133    4.086792  \n135    4.075269  \n137    4.055102  \n139    4.037383  \n140    4.006623  \n141    4.006211  \n147    4.003145  \n149    4.000000  \n157    3.964968  \n163    3.960938  \n166    3.900763  \n173    3.888489  \n175    3.875940  \n177    3.825279  \n182    3.820569  \n186    3.818533  \n192    3.796610  \n194    3.777409  \n195    3.772472  ",
            "text/html": "<div>\n<style scoped>\n    .dataframe tbody tr th:only-of-type {\n        vertical-align: middle;\n    }\n\n    .dataframe tbody tr th {\n        vertical-align: top;\n    }\n\n    .dataframe thead th {\n        text-align: right;\n    }\n</style>\n<table border=\"1\" class=\"dataframe\">\n  <thead>\n    <tr style=\"text-align: right;\">\n      <th></th>\n      <th>Book-Title</th>\n      <th>Book-Author</th>\n      <th>Image-URL-M</th>\n      <th>num_ratings</th>\n      <th>avg_rating</th>\n    </tr>\n  </thead>\n  <tbody>\n    <tr>\n      <th>0</th>\n      <td>Harry Potter and the Prisoner of Azkaban (Book 3)</td>\n      <td>J. K. Rowling</td>\n      <td>http://images.amazon.com/images/P/0439136350.0...</td>\n      <td>428</td>\n      <td>5.852804</td>\n    </tr>\n    <tr>\n      <th>3</th>\n      <td>Harry Potter and the Goblet of Fire (Book 4)</td>\n      <td>J. K. Rowling</td>\n      <td>http://images.amazon.com/images/P/0439139597.0...</td>\n      <td>387</td>\n      <td>5.824289</td>\n    </tr>\n    <tr>\n      <th>5</th>\n      <td>Harry Potter and the Sorcerer's Stone (Book 1)</td>\n      <td>J. K. Rowling</td>\n      <td>http://images.amazon.com/images/P/0590353403.0...</td>\n      <td>278</td>\n      <td>5.737410</td>\n    </tr>\n    <tr>\n      <th>9</th>\n      <td>Harry Potter and the Order of the Phoenix (Boo...</td>\n      <td>J. K. Rowling</td>\n      <td>http://images.amazon.com/images/P/043935806X.0...</td>\n      <td>347</td>\n      <td>5.501441</td>\n    </tr>\n    <tr>\n      <th>13</th>\n      <td>Harry Potter and the Chamber of Secrets (Book 2)</td>\n      <td>J. K. Rowling</td>\n      <td>http://images.amazon.com/images/P/0439064872.0...</td>\n      <td>556</td>\n      <td>5.183453</td>\n    </tr>\n    <tr>\n      <th>16</th>\n      <td>The Hobbit : The Enchanting Prelude to The Lor...</td>\n      <td>J.R.R. TOLKIEN</td>\n      <td>http://images.amazon.com/images/P/0345339681.0...</td>\n      <td>281</td>\n      <td>5.007117</td>\n    </tr>\n    <tr>\n      <th>17</th>\n      <td>The Fellowship of the Ring (The Lord of the Ri...</td>\n      <td>J.R.R. TOLKIEN</td>\n      <td>http://images.amazon.com/images/P/0345339703.0...</td>\n      <td>368</td>\n      <td>4.948370</td>\n    </tr>\n    <tr>\n      <th>26</th>\n      <td>Harry Potter and the Sorcerer's Stone (Harry P...</td>\n      <td>J. K. Rowling</td>\n      <td>http://images.amazon.com/images/P/059035342X.0...</td>\n      <td>575</td>\n      <td>4.895652</td>\n    </tr>\n    <tr>\n      <th>28</th>\n      <td>The Two Towers (The Lord of the Rings, Part 2)</td>\n      <td>J.R.R. TOLKIEN</td>\n      <td>http://images.amazon.com/images/P/0345339711.0...</td>\n      <td>260</td>\n      <td>4.880769</td>\n    </tr>\n    <tr>\n      <th>39</th>\n      <td>To Kill a Mockingbird</td>\n      <td>Harper Lee</td>\n      <td>http://images.amazon.com/images/P/0446310786.0...</td>\n      <td>510</td>\n      <td>4.700000</td>\n    </tr>\n    <tr>\n      <th>47</th>\n      <td>The Da Vinci Code</td>\n      <td>Dan Brown</td>\n      <td>http://images.amazon.com/images/P/0385504209.0...</td>\n      <td>898</td>\n      <td>4.642539</td>\n    </tr>\n    <tr>\n      <th>53</th>\n      <td>The Five People You Meet in Heaven</td>\n      <td>Mitch Albom</td>\n      <td>http://images.amazon.com/images/P/0786868716.0...</td>\n      <td>430</td>\n      <td>4.551163</td>\n    </tr>\n    <tr>\n      <th>55</th>\n      <td>The Catcher in the Rye</td>\n      <td>J.D. Salinger</td>\n      <td>http://images.amazon.com/images/P/0316769487.0...</td>\n      <td>449</td>\n      <td>4.545657</td>\n    </tr>\n    <tr>\n      <th>62</th>\n      <td>The Lovely Bones: A Novel</td>\n      <td>Alice Sebold</td>\n      <td>http://images.amazon.com/images/P/0316666343.0...</td>\n      <td>1295</td>\n      <td>4.468726</td>\n    </tr>\n    <tr>\n      <th>63</th>\n      <td>1984</td>\n      <td>George Orwell</td>\n      <td>http://images.amazon.com/images/P/0451524934.0...</td>\n      <td>284</td>\n      <td>4.454225</td>\n    </tr>\n    <tr>\n      <th>72</th>\n      <td>Prodigal Summer: A Novel</td>\n      <td>Barbara Kingsolver</td>\n      <td>http://images.amazon.com/images/P/0060959037.0...</td>\n      <td>253</td>\n      <td>4.450593</td>\n    </tr>\n    <tr>\n      <th>73</th>\n      <td>Neverwhere</td>\n      <td>Neil Gaiman</td>\n      <td>http://images.amazon.com/images/P/0380789019.0...</td>\n      <td>265</td>\n      <td>4.449057</td>\n    </tr>\n    <tr>\n      <th>78</th>\n      <td>The Secret Life of Bees</td>\n      <td>Sue Monk Kidd</td>\n      <td>http://images.amazon.com/images/P/0142001740.0...</td>\n      <td>774</td>\n      <td>4.447028</td>\n    </tr>\n    <tr>\n      <th>84</th>\n      <td>Stupid White Men ...and Other Sorry Excuses fo...</td>\n      <td>Michael Moore</td>\n      <td>http://images.amazon.com/images/P/0060392452.0...</td>\n      <td>283</td>\n      <td>4.356890</td>\n    </tr>\n    <tr>\n      <th>85</th>\n      <td>Tuesdays with Morrie: An Old Man, a Young Man,...</td>\n      <td>MITCH ALBOM</td>\n      <td>http://images.amazon.com/images/P/0385484518.0...</td>\n      <td>493</td>\n      <td>4.354970</td>\n    </tr>\n    <tr>\n      <th>88</th>\n      <td>The Red Tent (Bestselling Backlist)</td>\n      <td>Anita Diamant</td>\n      <td>http://images.amazon.com/images/P/0312195516.0...</td>\n      <td>723</td>\n      <td>4.334716</td>\n    </tr>\n    <tr>\n      <th>89</th>\n      <td>The Hitchhiker's Guide to the Galaxy</td>\n      <td>Douglas Adams</td>\n      <td>http://images.amazon.com/images/P/0671461494.0...</td>\n      <td>268</td>\n      <td>4.328358</td>\n    </tr>\n    <tr>\n      <th>98</th>\n      <td>Nickel and Dimed: On (Not) Getting By in America</td>\n      <td>Barbara Ehrenreich</td>\n      <td>http://images.amazon.com/images/P/0805063897.0...</td>\n      <td>335</td>\n      <td>4.289552</td>\n    </tr>\n    <tr>\n      <th>100</th>\n      <td>Into the Wild</td>\n      <td>Jon Krakauer</td>\n      <td>http://images.amazon.com/images/P/0385486804.0...</td>\n      <td>252</td>\n      <td>4.273810</td>\n    </tr>\n    <tr>\n      <th>103</th>\n      <td>Fahrenheit 451</td>\n      <td>Ray Bradbury</td>\n      <td>http://images.amazon.com/images/P/3257208626.0...</td>\n      <td>409</td>\n      <td>4.264059</td>\n    </tr>\n    <tr>\n      <th>116</th>\n      <td>Girl with a Pearl Earring</td>\n      <td>Tracy Chevalier</td>\n      <td>http://images.amazon.com/images/P/0452282152.0...</td>\n      <td>526</td>\n      <td>4.218631</td>\n    </tr>\n    <tr>\n      <th>117</th>\n      <td>Outlander</td>\n      <td>DIANA GABALDON</td>\n      <td>http://images.amazon.com/images/P/0440222915.0...</td>\n      <td>283</td>\n      <td>4.173145</td>\n    </tr>\n    <tr>\n      <th>123</th>\n      <td>Where the Heart Is (Oprah's Book Club (Paperba...</td>\n      <td>Billie Letts</td>\n      <td>http://images.amazon.com/images/P/0446672211.0...</td>\n      <td>585</td>\n      <td>4.105983</td>\n    </tr>\n    <tr>\n      <th>124</th>\n      <td>Seabiscuit: An American Legend</td>\n      <td>LAURA HILLENBRAND</td>\n      <td>http://images.amazon.com/images/P/0449005615.0...</td>\n      <td>275</td>\n      <td>4.098182</td>\n    </tr>\n    <tr>\n      <th>126</th>\n      <td>Life of Pi</td>\n      <td>Yann Martel</td>\n      <td>http://images.amazon.com/images/P/0151008116.0...</td>\n      <td>664</td>\n      <td>4.088855</td>\n    </tr>\n    <tr>\n      <th>130</th>\n      <td>The Bean Trees</td>\n      <td>Barbara Kingsolver</td>\n      <td>http://images.amazon.com/images/P/0060915544.0...</td>\n      <td>389</td>\n      <td>4.087404</td>\n    </tr>\n    <tr>\n      <th>133</th>\n      <td>A Child Called \\It\\\": One Child's Courage to S...</td>\n      <td>Dave Pelzer</td>\n      <td>http://images.amazon.com/images/P/1558743669.0...</td>\n      <td>265</td>\n      <td>4.086792</td>\n    </tr>\n    <tr>\n      <th>135</th>\n      <td>ANGELA'S ASHES</td>\n      <td>Frank McCourt</td>\n      <td>http://images.amazon.com/images/P/0684874350.0...</td>\n      <td>279</td>\n      <td>4.075269</td>\n    </tr>\n    <tr>\n      <th>137</th>\n      <td>Good in Bed</td>\n      <td>Jennifer Weiner</td>\n      <td>http://images.amazon.com/images/P/0743418174.0...</td>\n      <td>490</td>\n      <td>4.055102</td>\n    </tr>\n    <tr>\n      <th>139</th>\n      <td>Fast Food Nation: The Dark Side of the All-Ame...</td>\n      <td>Eric Schlosser</td>\n      <td>http://images.amazon.com/images/P/0060938455.0...</td>\n      <td>321</td>\n      <td>4.037383</td>\n    </tr>\n    <tr>\n      <th>140</th>\n      <td>American Gods</td>\n      <td>Neil Gaiman</td>\n      <td>http://images.amazon.com/images/P/0380789035.0...</td>\n      <td>302</td>\n      <td>4.006623</td>\n    </tr>\n    <tr>\n      <th>141</th>\n      <td>Skipping Christmas</td>\n      <td>JOHN GRISHAM</td>\n      <td>http://images.amazon.com/images/P/0385505833.0...</td>\n      <td>322</td>\n      <td>4.006211</td>\n    </tr>\n    <tr>\n      <th>147</th>\n      <td>Left Behind: A Novel of the Earth's Last Days ...</td>\n      <td>Tim Lahaye</td>\n      <td>http://images.amazon.com/images/P/0842329129.0...</td>\n      <td>318</td>\n      <td>4.003145</td>\n    </tr>\n    <tr>\n      <th>149</th>\n      <td>The Golden Compass (His Dark Materials, Book 1)</td>\n      <td>PHILIP PULLMAN</td>\n      <td>http://images.amazon.com/images/P/037582345X.0...</td>\n      <td>336</td>\n      <td>4.000000</td>\n    </tr>\n    <tr>\n      <th>157</th>\n      <td>The Color Purple</td>\n      <td>Alice Walker</td>\n      <td>http://images.amazon.com/images/P/0671617028.0...</td>\n      <td>314</td>\n      <td>3.964968</td>\n    </tr>\n    <tr>\n      <th>163</th>\n      <td>Silence of the Lambs</td>\n      <td>Thomas Harris</td>\n      <td>http://images.amazon.com/images/P/0312924585.0...</td>\n      <td>256</td>\n      <td>3.960938</td>\n    </tr>\n    <tr>\n      <th>166</th>\n      <td>About a Boy</td>\n      <td>Nick Hornby</td>\n      <td>http://images.amazon.com/images/P/1573227331.0...</td>\n      <td>262</td>\n      <td>3.900763</td>\n    </tr>\n    <tr>\n      <th>173</th>\n      <td>Seven Up (A Stephanie Plum Novel)</td>\n      <td>Janet Evanovich</td>\n      <td>http://images.amazon.com/images/P/0312265840.0...</td>\n      <td>278</td>\n      <td>3.888489</td>\n    </tr>\n    <tr>\n      <th>175</th>\n      <td>The Alchemist: A Fable About Following Your Dream</td>\n      <td>Paulo Coelho</td>\n      <td>http://images.amazon.com/images/P/0062502174.0...</td>\n      <td>266</td>\n      <td>3.875940</td>\n    </tr>\n    <tr>\n      <th>177</th>\n      <td>Hard Eight : A Stephanie Plum Novel (A Stephan...</td>\n      <td>Janet Evanovich</td>\n      <td>http://images.amazon.com/images/P/0312983867.0...</td>\n      <td>269</td>\n      <td>3.825279</td>\n    </tr>\n    <tr>\n      <th>182</th>\n      <td>Suzanne's Diary for Nicholas</td>\n      <td>James Patterson</td>\n      <td>http://images.amazon.com/images/P/0316969443.0...</td>\n      <td>457</td>\n      <td>3.820569</td>\n    </tr>\n    <tr>\n      <th>186</th>\n      <td>Lord of the Flies</td>\n      <td>William Gerald Golding</td>\n      <td>http://images.amazon.com/images/P/0399501487.0...</td>\n      <td>259</td>\n      <td>3.818533</td>\n    </tr>\n    <tr>\n      <th>192</th>\n      <td>A Prayer for Owen Meany</td>\n      <td>John Irving</td>\n      <td>http://images.amazon.com/images/P/0345361792.0...</td>\n      <td>413</td>\n      <td>3.796610</td>\n    </tr>\n    <tr>\n      <th>194</th>\n      <td>The Vampire Lestat (Vampire Chronicles, Book II)</td>\n      <td>ANNE RICE</td>\n      <td>http://images.amazon.com/images/P/0345313860.0...</td>\n      <td>301</td>\n      <td>3.777409</td>\n    </tr>\n    <tr>\n      <th>195</th>\n      <td>White Oleander : A Novel (Oprah's Book Club)</td>\n      <td>Janet Fitch</td>\n      <td>http://images.amazon.com/images/P/0316284955.0...</td>\n      <td>356</td>\n      <td>3.772472</td>\n    </tr>\n  </tbody>\n</table>\n</div>"
          },
          "metadata": {}
        }
      ]
    }
  ]
}